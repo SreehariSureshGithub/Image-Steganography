{
 "cells": [
  {
   "cell_type": "code",
   "execution_count": 1,
   "id": "f6cfbea4-4c2f-4162-ae85-567b25a69375",
   "metadata": {},
   "outputs": [],
   "source": [
    "from tkinter import *\n",
    "from tkinter.filedialog import *\n",
    "from PIL import ImageTk,Image\n",
    "from stegano import exifHeader as stg\n",
    "from tkinter import messagebox"
   ]
  },
  {
   "cell_type": "code",
   "execution_count": 2,
   "id": "726f540f-c529-4efd-9102-ef22cd69818a",
   "metadata": {},
   "outputs": [],
   "source": [
    "def Decode():\n",
    "    Screen.destroy()\n",
    "    DecScreen = Tk()\n",
    "    DecScreen.title(\"Decode\")\n",
    "    DecScreen.geometry(\"500x500+300+300\")\n",
    "    DecScreen.config(bg=\"grey\")\n",
    "    def OpenFile():\n",
    "        global FileOpen\n",
    "        FileOpen=StringVar()\n",
    "        FileOpen = askopenfilename(initialdir=\"/Desktop\",title=\"Select the File\",filetypes=((\"only jpeg files\",\"*jpg\"),(\"all type of files\",\"*.*\")))\n",
    "        \n",
    "    def Decoder():\n",
    "        Message=stg.reveal(FileOpen)\n",
    "        label3 = Label(text=Message)\n",
    "        label3.place(relx=0.3,rely=0.3)\n",
    "        \n",
    "    SelectButton = Button(text=\"Select the file\",command=OpenFile)\n",
    "    SelectButton.place(relx=0.1,rely=0.4)\n",
    "    EncodeButton=Button(text=\"Decode\",command=Decoder)\n",
    "    EncodeButton.place(relx=0.4,rely=0.5)\n",
    "\n",
    "def Encode():\n",
    "    Screen.destroy()\n",
    "    EncScreen = Tk()\n",
    "    EncScreen.title(\"Encode\")\n",
    "    EncScreen.geometry(\"500x500+300+300\")\n",
    "    EncScreen.config(bg=\"grey\")\n",
    "    label = Label(text=\"Confidential Message\")\n",
    "    label.place(relx=0.1,rely=0.2)\n",
    "    entry=Entry()\n",
    "    entry.place(relx=0.5,rely=0.2)\n",
    "    label1 = Label(text=\"Name of the File\")\n",
    "    label1.place(relx=0.1,rely=0.3)\n",
    "    SaveEntry = Entry()\n",
    "    SaveEntry.place(relx=0.5,rely=0.3)\n",
    " \n",
    "    def OpenFile():\n",
    "        global FileOpen\n",
    "        FileOpen=StringVar()\n",
    "        FileOpen = askopenfilename(initialdir = \"/Desktop\" , title = \"SelectFile\",filetypes=((\"jpeg files\",\"*jpg\"),(\"all files\",\"*.*\")))\n",
    " \n",
    "        label2 = Label(text=FileOpen)\n",
    "        label2.place(relx=0.3,rely=0.3)\n",
    " \n",
    "    def Encoder():\n",
    "        Response= messagebox.askyesno(\"PopUp\",\"Do you want to encode the image\")\n",
    "        if Response == 1:\n",
    "            stg.hide(FileOpen,SaveEntry.get()+\".jpg\",entry.get())\n",
    "            messagebox.showinfo(\"Pop Up\",\"Successfully Encoded the image\")\n",
    "        else:\n",
    "            messagebox.showwarning(\"Pop Up\",\"Unsuccessful,please try again\")\n",
    " \n",
    "    SelectButton = Button(text=\"Select the file\",command=OpenFile)\n",
    "    SelectButton.place(relx=0.1,rely=0.4)\n",
    "    EncodeButton=Button(text=\"Encode\",command=Encoder)\n",
    "    EncodeButton.place(relx=0.4,rely=0.5)\n",
    "\n",
    "Screen = Tk()\n",
    "Screen.title(\"Image Steganography\")\n",
    "Screen.geometry(\"500x500+300+300\")\n",
    "Screen.config(bg= \"grey\")\n",
    "\n",
    "EncodeButton = Button(text=\"Encode\",command=Encode)\n",
    "EncodeButton.place(relx=0.3,rely=0.4)\n",
    " \n",
    "DecodeButton = Button(text=\"Decode\",command=Decode)\n",
    "DecodeButton.place(relx=0.6,rely=0.4)\n",
    "\n",
    "mainloop()"
   ]
  },
  {
   "cell_type": "code",
   "execution_count": null,
   "id": "85e12b22-aa67-4809-b5ac-e0bf7d017a52",
   "metadata": {},
   "outputs": [],
   "source": []
  },
  {
   "cell_type": "code",
   "execution_count": null,
   "id": "faa92421-21d7-4328-ad9c-dbb1769bf8bb",
   "metadata": {
    "tags": []
   },
   "outputs": [],
   "source": []
  },
  {
   "cell_type": "code",
   "execution_count": null,
   "id": "29349e77-cd87-492c-a27c-44fb15813541",
   "metadata": {},
   "outputs": [],
   "source": []
  }
 ],
 "metadata": {
  "kernelspec": {
   "display_name": "Python 3 (ipykernel)",
   "language": "python",
   "name": "python3"
  },
  "language_info": {
   "codemirror_mode": {
    "name": "ipython",
    "version": 3
   },
   "file_extension": ".py",
   "mimetype": "text/x-python",
   "name": "python",
   "nbconvert_exporter": "python",
   "pygments_lexer": "ipython3",
   "version": "3.9.12"
  }
 },
 "nbformat": 4,
 "nbformat_minor": 5
}
